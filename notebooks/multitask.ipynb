{
 "cells": [
  {
   "cell_type": "code",
   "execution_count": 1,
   "metadata": {},
   "outputs": [],
   "source": [
    "import numpy as np\n",
    "from torch.utils.data import DataLoader\n",
    "\n",
    "from datastore.api.data import InMemoryDataset, MultiTaskDataset"
   ]
  },
  {
   "cell_type": "code",
   "execution_count": 27,
   "metadata": {},
   "outputs": [],
   "source": [
    "class RandomMultiTaskData(InMemoryDataset, MultiTaskDataset):\n",
    "    \"\"\" Random multiclass dataset - Useful for quick iterating \"\"\"\n",
    "\n",
    "    def __init__(self, num_samples: int, num_tasks: int, num_classes: int, seed: int=13):\n",
    "        np.random.seed(seed)\n",
    "        self.data = np.random.randn(num_samples)\n",
    "        self.create_labels(num_tasks, num_classes, num_samples)\n",
    "        \n",
    "    def create_labels(self, num_tasks, num_classes, num_samples):\n",
    "        for i in range(num_tasks):\n",
    "            self.labels[f'task{i}'] = np.random.randint(num_classes, size=num_samples)\n",
    "\n",
    "    def load_data(self):\n",
    "        return self.data, self.labels\n",
    "\n",
    "    def __repr__(self):\n",
    "        return f'Random multitask supervised dataset'\n",
    "\n",
    "    def __len__(self):\n",
    "        return len(self.data)\n",
    "\n",
    "    def __getitem__(self, idx):\n",
    "        return self.data[idx], self.index_labels(idx)"
   ]
  },
  {
   "cell_type": "code",
   "execution_count": 28,
   "metadata": {},
   "outputs": [],
   "source": [
    "multitask_data = RandomMultiTaskData(num_samples=10, num_tasks=2, num_classes=10)"
   ]
  },
  {
   "cell_type": "code",
   "execution_count": 29,
   "metadata": {},
   "outputs": [],
   "source": [
    "dataloader = DataLoader(multitask_data, batch_size=2)"
   ]
  },
  {
   "cell_type": "code",
   "execution_count": 30,
   "metadata": {},
   "outputs": [
    {
     "name": "stdout",
     "output_type": "stream",
     "text": [
      "Data: tensor([-0.7124,  0.7538], dtype=torch.float64)\n",
      "Labels: {'task0': tensor([1, 2]), 'task1': tensor([5, 8])}\n",
      "\n",
      "Data: tensor([-0.0445,  0.4518], dtype=torch.float64)\n",
      "Labels: {'task0': tensor([8, 8]), 'task1': tensor([3, 8])}\n",
      "\n",
      "Data: tensor([1.3451, 0.5323], dtype=torch.float64)\n",
      "Labels: {'task0': tensor([6, 2]), 'task1': tensor([5, 1])}\n",
      "\n",
      "Data: tensor([1.3502, 0.8612], dtype=torch.float64)\n",
      "Labels: {'task0': tensor([4, 5]), 'task1': tensor([8, 1])}\n",
      "\n",
      "Data: tensor([ 1.4787, -1.0454], dtype=torch.float64)\n",
      "Labels: {'task0': tensor([7, 3]), 'task1': tensor([7, 7])}\n",
      "\n"
     ]
    }
   ],
   "source": [
    "for idx, (data, labels) in enumerate(dataloader):\n",
    "    print(f'Data: {data}\\nLabels: {labels}\\n')"
   ]
  },
  {
   "cell_type": "code",
   "execution_count": 33,
   "metadata": {},
   "outputs": [
    {
     "data": {
      "text/plain": [
       "array([-0.71239066,  0.75376638, -0.04450308,  0.45181234,  1.34510171,\n",
       "        0.53233789,  1.3501879 ,  0.86121137,  1.47868574, -1.04537713])"
      ]
     },
     "execution_count": 33,
     "metadata": {},
     "output_type": "execute_result"
    }
   ],
   "source": [
    "multitask_data.data"
   ]
  },
  {
   "cell_type": "code",
   "execution_count": 32,
   "metadata": {},
   "outputs": [
    {
     "data": {
      "text/plain": [
       "{'task0': array([1, 2, 8, 8, 6, 2, 4, 5, 7, 3]),\n",
       " 'task1': array([5, 8, 3, 8, 5, 1, 8, 1, 7, 7])}"
      ]
     },
     "execution_count": 32,
     "metadata": {},
     "output_type": "execute_result"
    }
   ],
   "source": [
    "multitask_data.labels"
   ]
  }
 ],
 "metadata": {
  "kernelspec": {
   "display_name": "Python 3",
   "language": "python",
   "name": "python3"
  },
  "language_info": {
   "codemirror_mode": {
    "name": "ipython",
    "version": 3
   },
   "file_extension": ".py",
   "mimetype": "text/x-python",
   "name": "python",
   "nbconvert_exporter": "python",
   "pygments_lexer": "ipython3",
   "version": "3.7.1"
  }
 },
 "nbformat": 4,
 "nbformat_minor": 2
}
