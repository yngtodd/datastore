{
 "cells": [
  {
   "cell_type": "code",
   "execution_count": 40,
   "metadata": {},
   "outputs": [],
   "source": [
    "from datastore.data import P3B3\n",
    "from datastore.data import RandomData\n",
    "from datastore.data import KuzushijiMNIST\n",
    "from datastore.data import RandomMultiTaskData\n",
    "from datastore.sampling.bootstrap import bootstrap\n",
    "\n",
    "from torch.utils.data import DataLoader"
   ]
  },
  {
   "cell_type": "code",
   "execution_count": 41,
   "metadata": {},
   "outputs": [],
   "source": [
    "# Random Dataset\n",
    "random_data = RandomData(num_samples=10, num_classes=2, seed=None)\n",
    "random_samples = bootstrap(random_data, num_bootstraps=2)"
   ]
  },
  {
   "cell_type": "code",
   "execution_count": 42,
   "metadata": {},
   "outputs": [],
   "source": [
    "def get_dataloaders(sample):\n",
    "    trainloader = DataLoader(sample.train, batch_size=1)\n",
    "    validloader = DataLoader(sample.valid, batch_size=1)\n",
    "    return trainloader, validloader"
   ]
  },
  {
   "cell_type": "code",
   "execution_count": 43,
   "metadata": {},
   "outputs": [],
   "source": [
    "def get_set(dataloader, verbose=False):\n",
    "    if verbose:\n",
    "        print(f'number of samples: {len(dataloader)}')\n",
    "        \n",
    "    elems = set()\n",
    "    for idx, (data, target) in enumerate(dataloader):\n",
    "        elems.add(data.item())\n",
    "        \n",
    "        if verbose:\n",
    "            print(data)\n",
    "    \n",
    "    return elems"
   ]
  },
  {
   "cell_type": "code",
   "execution_count": 47,
   "metadata": {},
   "outputs": [],
   "source": [
    "def inspect_sample(sample, verbose=False):\n",
    "    train_loader, valid_loader = get_dataloaders(sample)\n",
    "    if verbose: print(f'Training set\\n')\n",
    "    train_elems = get_set(train_loader, verbose)\n",
    "    if verbose: print(f'\\nValidation set\\n')\n",
    "    valid_elems = get_set(valid_loader, verbose)\n",
    "    intersection = train_elems.intersection(valid_elems)\n",
    "    print(f'\\nIntersection of training and validation sets: {intersection}')"
   ]
  },
  {
   "cell_type": "code",
   "execution_count": 48,
   "metadata": {},
   "outputs": [],
   "source": [
    "def inspect_all_samples(samples, verbose=False):\n",
    "    for idx, sample in enumerate(samples):\n",
    "        print(f'\\nSample {idx}')\n",
    "        inspect_sample(sample, verbose)"
   ]
  },
  {
   "cell_type": "code",
   "execution_count": 49,
   "metadata": {},
   "outputs": [
    {
     "name": "stdout",
     "output_type": "stream",
     "text": [
      "\n",
      "Sample 0\n",
      "Training set\n",
      "\n",
      "number of samples: 5\n",
      "tensor([0.8472], dtype=torch.float64)\n",
      "tensor([0.9642], dtype=torch.float64)\n",
      "tensor([1.7783], dtype=torch.float64)\n",
      "tensor([-1.3539], dtype=torch.float64)\n",
      "tensor([-1.3539], dtype=torch.float64)\n",
      "\n",
      "Validation set\n",
      "\n",
      "number of samples: 6\n",
      "tensor([-0.5503], dtype=torch.float64)\n",
      "tensor([-0.8690], dtype=torch.float64)\n",
      "tensor([-0.1275], dtype=torch.float64)\n",
      "tensor([1.4629], dtype=torch.float64)\n",
      "tensor([-0.1406], dtype=torch.float64)\n",
      "tensor([0.1021], dtype=torch.float64)\n",
      "\n",
      "Intersection of training and validation sets: set()\n",
      "\n",
      "Sample 1\n",
      "Training set\n",
      "\n",
      "number of samples: 5\n",
      "tensor([0.9642], dtype=torch.float64)\n",
      "tensor([-0.1406], dtype=torch.float64)\n",
      "tensor([-0.8690], dtype=torch.float64)\n",
      "tensor([-0.1406], dtype=torch.float64)\n",
      "tensor([0.8472], dtype=torch.float64)\n",
      "\n",
      "Validation set\n",
      "\n",
      "number of samples: 6\n",
      "tensor([-0.5503], dtype=torch.float64)\n",
      "tensor([-0.1275], dtype=torch.float64)\n",
      "tensor([1.4629], dtype=torch.float64)\n",
      "tensor([-1.3539], dtype=torch.float64)\n",
      "tensor([1.7783], dtype=torch.float64)\n",
      "tensor([0.1021], dtype=torch.float64)\n",
      "\n",
      "Intersection of training and validation sets: set()\n"
     ]
    }
   ],
   "source": [
    "inspect_all_samples(random_samples, verbose=True)"
   ]
  },
  {
   "cell_type": "code",
   "execution_count": null,
   "metadata": {},
   "outputs": [],
   "source": []
  }
 ],
 "metadata": {
  "kernelspec": {
   "display_name": "Python 3",
   "language": "python",
   "name": "python3"
  },
  "language_info": {
   "codemirror_mode": {
    "name": "ipython",
    "version": 3
   },
   "file_extension": ".py",
   "mimetype": "text/x-python",
   "name": "python",
   "nbconvert_exporter": "python",
   "pygments_lexer": "ipython3",
   "version": "3.7.1"
  }
 },
 "nbformat": 4,
 "nbformat_minor": 2
}
