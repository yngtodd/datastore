{
 "cells": [
  {
   "cell_type": "code",
   "execution_count": 1,
   "metadata": {},
   "outputs": [],
   "source": [
    "from datastore.data import P3B3\n",
    "from datastore.data import RandomData\n",
    "from datastore.data import KuzushijiMNIST\n",
    "from datastore.data import RandomMultiTaskData\n",
    "from datastore.sampling.bootstrap import bootstrap\n",
    "\n",
    "from torch.utils.data import DataLoader"
   ]
  },
  {
   "cell_type": "code",
   "execution_count": 27,
   "metadata": {},
   "outputs": [],
   "source": [
    "# Random Dataset\n",
    "random_data = RandomData(num_samples=10, num_classes=2, seed=None)\n",
    "random_samples = bootstrap(random_data, num_bootstraps=2)"
   ]
  },
  {
   "cell_type": "code",
   "execution_count": 28,
   "metadata": {},
   "outputs": [],
   "source": [
    "def get_dataloaders(split):\n",
    "    trainloader = DataLoader(split.train, batch_size=1)\n",
    "    validloader = DataLoader(split.valid, batch_size=1)\n",
    "    return trainloader, validloader"
   ]
  },
  {
   "cell_type": "code",
   "execution_count": 29,
   "metadata": {},
   "outputs": [],
   "source": [
    "trainloader, validloader = get_dataloaders(random_samples[0])"
   ]
  },
  {
   "cell_type": "code",
   "execution_count": 30,
   "metadata": {},
   "outputs": [],
   "source": [
    "def print_data_samples(dataloader):\n",
    "    print(f'number of samples: {len(dataloader)}')\n",
    "    for idx, (data, target) in enumerate(dataloader):\n",
    "        print(data)"
   ]
  },
  {
   "cell_type": "code",
   "execution_count": 31,
   "metadata": {},
   "outputs": [
    {
     "name": "stdout",
     "output_type": "stream",
     "text": [
      "number of samples: 5\n",
      "tensor([2.1388], dtype=torch.float64)\n",
      "tensor([0.1293], dtype=torch.float64)\n",
      "tensor([0.6594], dtype=torch.float64)\n",
      "tensor([-0.0213], dtype=torch.float64)\n",
      "tensor([1.3627], dtype=torch.float64)\n"
     ]
    }
   ],
   "source": [
    "print_data_samples(trainloader)"
   ]
  },
  {
   "cell_type": "code",
   "execution_count": 32,
   "metadata": {},
   "outputs": [
    {
     "name": "stdout",
     "output_type": "stream",
     "text": [
      "number of samples: 5\n",
      "tensor([-0.8641], dtype=torch.float64)\n",
      "tensor([-0.7178], dtype=torch.float64)\n",
      "tensor([0.2519], dtype=torch.float64)\n",
      "tensor([-1.2204], dtype=torch.float64)\n",
      "tensor([-1.1957], dtype=torch.float64)\n"
     ]
    }
   ],
   "source": [
    "print_data_samples(validloader)"
   ]
  },
  {
   "cell_type": "code",
   "execution_count": 33,
   "metadata": {},
   "outputs": [],
   "source": [
    "trainloader, validloader = get_dataloaders(random_samples[1])"
   ]
  },
  {
   "cell_type": "code",
   "execution_count": 34,
   "metadata": {},
   "outputs": [
    {
     "name": "stdout",
     "output_type": "stream",
     "text": [
      "number of samples: 5\n",
      "tensor([1.3627], dtype=torch.float64)\n",
      "tensor([0.6594], dtype=torch.float64)\n",
      "tensor([-0.0213], dtype=torch.float64)\n",
      "tensor([2.1388], dtype=torch.float64)\n",
      "tensor([-0.0213], dtype=torch.float64)\n"
     ]
    }
   ],
   "source": [
    "print_data_samples(trainloader)"
   ]
  },
  {
   "cell_type": "code",
   "execution_count": 35,
   "metadata": {},
   "outputs": [
    {
     "name": "stdout",
     "output_type": "stream",
     "text": [
      "number of samples: 6\n",
      "tensor([-0.8641], dtype=torch.float64)\n",
      "tensor([-0.7178], dtype=torch.float64)\n",
      "tensor([0.2519], dtype=torch.float64)\n",
      "tensor([-1.2204], dtype=torch.float64)\n",
      "tensor([-1.1957], dtype=torch.float64)\n",
      "tensor([0.1293], dtype=torch.float64)\n"
     ]
    }
   ],
   "source": [
    "print_data_samples(validloader)"
   ]
  },
  {
   "cell_type": "code",
   "execution_count": null,
   "metadata": {},
   "outputs": [],
   "source": []
  }
 ],
 "metadata": {
  "kernelspec": {
   "display_name": "Python 3",
   "language": "python",
   "name": "python3"
  },
  "language_info": {
   "codemirror_mode": {
    "name": "ipython",
    "version": 3
   },
   "file_extension": ".py",
   "mimetype": "text/x-python",
   "name": "python",
   "nbconvert_exporter": "python",
   "pygments_lexer": "ipython3",
   "version": "3.7.1"
  }
 },
 "nbformat": 4,
 "nbformat_minor": 2
}
