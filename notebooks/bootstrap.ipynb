{
 "cells": [
  {
   "cell_type": "code",
   "execution_count": 1,
   "metadata": {},
   "outputs": [],
   "source": [
    "from datastore.data import P3B3\n",
    "from datastore.data import RandomData\n",
    "from datastore.data import KuzushijiMNIST\n",
    "from datastore.data import RandomMultiTaskData\n",
    "from datastore.sampling import leave_one_out_bootstrap\n",
    "\n",
    "from torch.utils.data import DataLoader"
   ]
  },
  {
   "cell_type": "code",
   "execution_count": 2,
   "metadata": {},
   "outputs": [],
   "source": [
    "# Random Dataset\n",
    "random_data = RandomData(num_samples=10, num_classes=2, seed=None)\n",
    "random_samples = leave_one_out_bootstrap(random_data, num_bootstraps=2)"
   ]
  },
  {
   "cell_type": "code",
   "execution_count": 3,
   "metadata": {},
   "outputs": [],
   "source": [
    "# Multitask Random Dataset\n",
    "random_multitask_data = RandomMultiTaskData(num_samples=10, num_tasks=2, num_classes=2, seed=None)\n",
    "random_multitask_samples = leave_one_out_bootstrap(random_multitask_data, num_bootstraps=2)"
   ]
  },
  {
   "cell_type": "code",
   "execution_count": 4,
   "metadata": {},
   "outputs": [],
   "source": [
    "def get_dataloaders(sample):\n",
    "    trainloader = DataLoader(sample.train, batch_size=1)\n",
    "    validloader = DataLoader(sample.test, batch_size=1)\n",
    "    return trainloader, validloader"
   ]
  },
  {
   "cell_type": "code",
   "execution_count": 29,
   "metadata": {},
   "outputs": [],
   "source": [
    "def get_set(dataloader, verbose=False):\n",
    "    if verbose:\n",
    "        print(f'number of samples: {len(dataloader)}')\n",
    "        \n",
    "    elems = set()\n",
    "    for idx, (data, target) in enumerate(dataloader):\n",
    "        print(data.item())\n",
    "        elems.add(data.item())\n",
    "        \n",
    "        if verbose:\n",
    "            print(data)\n",
    "    \n",
    "    return elems"
   ]
  },
  {
   "cell_type": "code",
   "execution_count": 30,
   "metadata": {},
   "outputs": [],
   "source": [
    "def inspect_sample(sample, verbose=False):\n",
    "    train_loader, valid_loader = get_dataloaders(sample)\n",
    "    if verbose: print(f'Training set\\n')\n",
    "    train_elems = get_set(train_loader, verbose)\n",
    "    if verbose: print(f'\\nTest set\\n')\n",
    "    valid_elems = get_set(valid_loader, verbose)\n",
    "    intersection = train_elems.intersection(valid_elems)\n",
    "    print(f'\\nIntersection of training and test sets: {intersection}')"
   ]
  },
  {
   "cell_type": "code",
   "execution_count": 31,
   "metadata": {},
   "outputs": [],
   "source": [
    "def inspect_all_samples(samples, verbose=False):\n",
    "    for idx, sample in enumerate(samples):\n",
    "        print(f'\\nSample {idx}')\n",
    "        inspect_sample(sample, verbose)"
   ]
  },
  {
   "cell_type": "code",
   "execution_count": 32,
   "metadata": {},
   "outputs": [
    {
     "name": "stdout",
     "output_type": "stream",
     "text": [
      "\n",
      "Sample 0\n",
      "Training set\n",
      "\n",
      "number of samples: 5\n",
      "2.6832984987629867\n",
      "tensor([2.6833], dtype=torch.float64)\n",
      "0.9577038977483122\n",
      "tensor([0.9577], dtype=torch.float64)\n",
      "0.33135903638787345\n",
      "tensor([0.3314], dtype=torch.float64)\n",
      "1.2582663134708885\n",
      "tensor([1.2583], dtype=torch.float64)\n",
      "1.2582663134708885\n",
      "tensor([1.2583], dtype=torch.float64)\n",
      "\n",
      "Test set\n",
      "\n",
      "number of samples: 6\n",
      "-1.0287581918171989\n",
      "tensor([-1.0288], dtype=torch.float64)\n",
      "1.4799927651470475\n",
      "tensor([1.4800], dtype=torch.float64)\n",
      "-1.0259006695060389\n",
      "tensor([-1.0259], dtype=torch.float64)\n",
      "-2.3434433491451214\n",
      "tensor([-2.3434], dtype=torch.float64)\n",
      "-0.6387077316623777\n",
      "tensor([-0.6387], dtype=torch.float64)\n",
      "0.5758117840230111\n",
      "tensor([0.5758], dtype=torch.float64)\n",
      "\n",
      "Intersection of training and test sets: set()\n",
      "\n",
      "Sample 1\n",
      "Training set\n",
      "\n",
      "number of samples: 5\n",
      "-1.0259006695060389\n",
      "tensor([-1.0259], dtype=torch.float64)\n",
      "2.6832984987629867\n",
      "tensor([2.6833], dtype=torch.float64)\n",
      "1.2582663134708885\n",
      "tensor([1.2583], dtype=torch.float64)\n",
      "2.6832984987629867\n",
      "tensor([2.6833], dtype=torch.float64)\n",
      "0.5758117840230111\n",
      "tensor([0.5758], dtype=torch.float64)\n",
      "\n",
      "Test set\n",
      "\n",
      "number of samples: 6\n",
      "-1.0287581918171989\n",
      "tensor([-1.0288], dtype=torch.float64)\n",
      "1.4799927651470475\n",
      "tensor([1.4800], dtype=torch.float64)\n",
      "0.33135903638787345\n",
      "tensor([0.3314], dtype=torch.float64)\n",
      "0.9577038977483122\n",
      "tensor([0.9577], dtype=torch.float64)\n",
      "-2.3434433491451214\n",
      "tensor([-2.3434], dtype=torch.float64)\n",
      "-0.6387077316623777\n",
      "tensor([-0.6387], dtype=torch.float64)\n",
      "\n",
      "Intersection of training and test sets: set()\n"
     ]
    }
   ],
   "source": [
    "inspect_all_samples(random_samples, verbose=True)"
   ]
  },
  {
   "cell_type": "code",
   "execution_count": 33,
   "metadata": {},
   "outputs": [
    {
     "name": "stdout",
     "output_type": "stream",
     "text": [
      "\n",
      "Sample 0\n",
      "Training set\n",
      "\n",
      "number of samples: 5\n",
      "0.6521309001923868\n",
      "tensor([0.6521], dtype=torch.float64)\n",
      "0.19561316850635524\n",
      "tensor([0.1956], dtype=torch.float64)\n",
      "0.5364819254933619\n",
      "tensor([0.5365], dtype=torch.float64)\n",
      "0.2530948608866341\n",
      "tensor([0.2531], dtype=torch.float64)\n",
      "-1.006049656140366\n",
      "tensor([-1.0060], dtype=torch.float64)\n",
      "\n",
      "Test set\n",
      "\n",
      "number of samples: 5\n",
      "0.8902146910687551\n",
      "tensor([0.8902], dtype=torch.float64)\n",
      "1.1797170972411\n",
      "tensor([1.1797], dtype=torch.float64)\n",
      "-1.1006763988577402\n",
      "tensor([-1.1007], dtype=torch.float64)\n",
      "0.6598202935959029\n",
      "tensor([0.6598], dtype=torch.float64)\n",
      "0.3384112573869376\n",
      "tensor([0.3384], dtype=torch.float64)\n",
      "\n",
      "Intersection of training and test sets: set()\n",
      "\n",
      "Sample 1\n",
      "Training set\n",
      "\n",
      "number of samples: 5\n",
      "0.8902146910687551\n",
      "tensor([0.8902], dtype=torch.float64)\n",
      "0.6521309001923868\n",
      "tensor([0.6521], dtype=torch.float64)\n",
      "0.2530948608866341\n",
      "tensor([0.2531], dtype=torch.float64)\n",
      "0.3384112573869376\n",
      "tensor([0.3384], dtype=torch.float64)\n",
      "0.3384112573869376\n",
      "tensor([0.3384], dtype=torch.float64)\n",
      "\n",
      "Test set\n",
      "\n",
      "number of samples: 6\n",
      "0.19561316850635524\n",
      "tensor([0.1956], dtype=torch.float64)\n",
      "1.1797170972411\n",
      "tensor([1.1797], dtype=torch.float64)\n",
      "-1.1006763988577402\n",
      "tensor([-1.1007], dtype=torch.float64)\n",
      "0.6598202935959029\n",
      "tensor([0.6598], dtype=torch.float64)\n",
      "0.5364819254933619\n",
      "tensor([0.5365], dtype=torch.float64)\n",
      "-1.006049656140366\n",
      "tensor([-1.0060], dtype=torch.float64)\n",
      "\n",
      "Intersection of training and test sets: set()\n"
     ]
    }
   ],
   "source": [
    "inspect_all_samples(random_multitask_samples, verbose=True)"
   ]
  }
 ],
 "metadata": {
  "kernelspec": {
   "display_name": "Python 3",
   "language": "python",
   "name": "python3"
  },
  "language_info": {
   "codemirror_mode": {
    "name": "ipython",
    "version": 3
   },
   "file_extension": ".py",
   "mimetype": "text/x-python",
   "name": "python",
   "nbconvert_exporter": "python",
   "pygments_lexer": "ipython3",
   "version": "3.7.3"
  }
 },
 "nbformat": 4,
 "nbformat_minor": 2
}
