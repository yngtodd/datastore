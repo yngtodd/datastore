{
 "cells": [
  {
   "cell_type": "code",
   "execution_count": 21,
   "metadata": {},
   "outputs": [],
   "source": [
    "from datastore.data import RandomData\n",
    "from datastore.sampling.cross_validation import stratified_split\n",
    "\n",
    "from torch.utils.data import DataLoader"
   ]
  },
  {
   "cell_type": "code",
   "execution_count": 27,
   "metadata": {},
   "outputs": [],
   "source": [
    "data = RandomData(num_samples=100, num_classes=2)"
   ]
  },
  {
   "cell_type": "code",
   "execution_count": 36,
   "metadata": {},
   "outputs": [],
   "source": [
    "splits = stratified_split(data, num_splits=10, seed=13)"
   ]
  },
  {
   "cell_type": "code",
   "execution_count": 37,
   "metadata": {},
   "outputs": [],
   "source": [
    "def get_dataloaders(split):\n",
    "    trainloader = DataLoader(split.train, batch_size=1)\n",
    "    validloader = DataLoader(split.valid, batch_size=1)\n",
    "    return trainloader, validloader"
   ]
  },
  {
   "cell_type": "code",
   "execution_count": 40,
   "metadata": {},
   "outputs": [],
   "source": [
    "def count_label_ratio(dataloader):\n",
    "    num_ones = 0\n",
    "    for idx, (_, label) in enumerate(dataloader):\n",
    "        if label.item() == 1:\n",
    "            num_ones += 1\n",
    "            \n",
    "    print(f'Proportion of label 1 in split: {num_ones/len(dataloader)}')"
   ]
  },
  {
   "cell_type": "code",
   "execution_count": 44,
   "metadata": {},
   "outputs": [
    {
     "name": "stdout",
     "output_type": "stream",
     "text": [
      "Split: 0\n",
      "Proportion of label 1 in split: 0.4606741573033708\n",
      "Proportion of label 1 in split: 0.45454545454545453\n",
      "******************************\n",
      "Split: 1\n",
      "Proportion of label 1 in split: 0.4606741573033708\n",
      "Proportion of label 1 in split: 0.45454545454545453\n",
      "******************************\n",
      "Split: 2\n",
      "Proportion of label 1 in split: 0.4606741573033708\n",
      "Proportion of label 1 in split: 0.45454545454545453\n",
      "******************************\n",
      "Split: 3\n",
      "Proportion of label 1 in split: 0.4606741573033708\n",
      "Proportion of label 1 in split: 0.45454545454545453\n",
      "******************************\n",
      "Split: 4\n",
      "Proportion of label 1 in split: 0.45555555555555555\n",
      "Proportion of label 1 in split: 0.5\n",
      "******************************\n",
      "Split: 5\n",
      "Proportion of label 1 in split: 0.45555555555555555\n",
      "Proportion of label 1 in split: 0.5\n",
      "******************************\n",
      "Split: 6\n",
      "Proportion of label 1 in split: 0.46153846153846156\n",
      "Proportion of label 1 in split: 0.4444444444444444\n",
      "******************************\n",
      "Split: 7\n",
      "Proportion of label 1 in split: 0.46153846153846156\n",
      "Proportion of label 1 in split: 0.4444444444444444\n",
      "******************************\n",
      "Split: 8\n",
      "Proportion of label 1 in split: 0.46153846153846156\n",
      "Proportion of label 1 in split: 0.4444444444444444\n",
      "******************************\n",
      "Split: 9\n",
      "Proportion of label 1 in split: 0.46153846153846156\n",
      "Proportion of label 1 in split: 0.4444444444444444\n",
      "******************************\n"
     ]
    }
   ],
   "source": [
    "split_idx = 0\n",
    "for split in splits:\n",
    "    print(f'Split: {split_idx}')\n",
    "    trainloader, validloader = get_dataloaders(split)\n",
    "    count_label_ratio(trainloader)\n",
    "    count_label_ratio(validloader)\n",
    "    split_idx += 1\n",
    "    print('*' * 30)"
   ]
  },
  {
   "cell_type": "code",
   "execution_count": null,
   "metadata": {},
   "outputs": [],
   "source": []
  },
  {
   "cell_type": "code",
   "execution_count": null,
   "metadata": {},
   "outputs": [],
   "source": []
  }
 ],
 "metadata": {
  "kernelspec": {
   "display_name": "Python 3",
   "language": "python",
   "name": "python3"
  },
  "language_info": {
   "codemirror_mode": {
    "name": "ipython",
    "version": 3
   },
   "file_extension": ".py",
   "mimetype": "text/x-python",
   "name": "python",
   "nbconvert_exporter": "python",
   "pygments_lexer": "ipython3",
   "version": "3.7.1"
  }
 },
 "nbformat": 4,
 "nbformat_minor": 2
}
