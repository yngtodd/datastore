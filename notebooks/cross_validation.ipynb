{
 "cells": [
  {
   "cell_type": "code",
   "execution_count": 10,
   "metadata": {},
   "outputs": [],
   "source": [
    "from datastore.data import RandomData\n",
    "from datastore.data import KuzushijiMNIST\n",
    "from datastore.sampling.cross_validation import stratified_split\n",
    "\n",
    "from torch.utils.data import DataLoader"
   ]
  },
  {
   "cell_type": "code",
   "execution_count": 18,
   "metadata": {},
   "outputs": [],
   "source": [
    "# Random Dataset\n",
    "random_data = RandomData(num_samples=100, num_classes=2)\n",
    "random_data_splits = stratified_split(random_data, num_splits=5, seed=13)"
   ]
  },
  {
   "cell_type": "code",
   "execution_count": 19,
   "metadata": {},
   "outputs": [],
   "source": [
    "# Kuzushiji Dataset\n",
    "kmnist = KuzushijiMNIST('/Users/yngtodd/data', partition='train', download=True)\n",
    "kmnist_splits = stratified_split(kmnist, num_splits=5, seed=13)"
   ]
  },
  {
   "cell_type": "code",
   "execution_count": 20,
   "metadata": {},
   "outputs": [],
   "source": [
    "def get_dataloaders(split):\n",
    "    trainloader = DataLoader(split.train, batch_size=1)\n",
    "    validloader = DataLoader(split.valid, batch_size=1)\n",
    "    return trainloader, validloader"
   ]
  },
  {
   "cell_type": "code",
   "execution_count": 21,
   "metadata": {},
   "outputs": [],
   "source": [
    "def count_label_ratio(dataloader, label=1):\n",
    "    num_label = 0\n",
    "    for idx, (_, target) in enumerate(dataloader):\n",
    "        if target.item() == label:\n",
    "            num_label += 1\n",
    "            \n",
    "    print(f'Proportion of label {label} in split: {num_label/len(dataloader)}')"
   ]
  },
  {
   "cell_type": "code",
   "execution_count": 22,
   "metadata": {},
   "outputs": [],
   "source": [
    "def inspect_splits(splits, label=1):\n",
    "    split_idx = 0\n",
    "    for split in splits:\n",
    "        print(f'Split: {split_idx}')\n",
    "        trainloader, validloader = get_dataloaders(split)\n",
    "        count_label_ratio(trainloader, label)\n",
    "        count_label_ratio(validloader, label)\n",
    "        split_idx += 1\n",
    "        print('*' * 30)"
   ]
  },
  {
   "cell_type": "code",
   "execution_count": 23,
   "metadata": {},
   "outputs": [
    {
     "name": "stdout",
     "output_type": "stream",
     "text": [
      "Split: 0\n",
      "Proportion of label 1 in split: 0.569620253164557\n",
      "Proportion of label 1 in split: 0.5714285714285714\n",
      "******************************\n",
      "Split: 1\n",
      "Proportion of label 1 in split: 0.569620253164557\n",
      "Proportion of label 1 in split: 0.5714285714285714\n",
      "******************************\n",
      "Split: 2\n",
      "Proportion of label 1 in split: 0.575\n",
      "Proportion of label 1 in split: 0.55\n",
      "******************************\n",
      "Split: 3\n",
      "Proportion of label 1 in split: 0.5679012345679012\n",
      "Proportion of label 1 in split: 0.5789473684210527\n",
      "******************************\n",
      "Split: 4\n",
      "Proportion of label 1 in split: 0.5679012345679012\n",
      "Proportion of label 1 in split: 0.5789473684210527\n",
      "******************************\n"
     ]
    }
   ],
   "source": [
    "inspect_splits(random_data_splits, label=1)"
   ]
  },
  {
   "cell_type": "code",
   "execution_count": 8,
   "metadata": {},
   "outputs": [
    {
     "name": "stdout",
     "output_type": "stream",
     "text": [
      "Split: 0\n",
      "Proportion of label 2 in split: 0.1\n",
      "Proportion of label 2 in split: 0.1\n",
      "******************************\n",
      "Split: 1\n",
      "Proportion of label 2 in split: 0.1\n",
      "Proportion of label 2 in split: 0.1\n",
      "******************************\n",
      "Split: 2\n",
      "Proportion of label 2 in split: 0.1\n",
      "Proportion of label 2 in split: 0.1\n",
      "******************************\n",
      "Split: 3\n",
      "Proportion of label 2 in split: 0.1\n",
      "Proportion of label 2 in split: 0.1\n",
      "******************************\n",
      "Split: 4\n",
      "Proportion of label 2 in split: 0.1\n",
      "Proportion of label 2 in split: 0.1\n",
      "******************************\n"
     ]
    }
   ],
   "source": [
    "inspect_splits(kmnist_splits, label=2)"
   ]
  },
  {
   "cell_type": "code",
   "execution_count": null,
   "metadata": {},
   "outputs": [],
   "source": []
  }
 ],
 "metadata": {
  "kernelspec": {
   "display_name": "Python 3",
   "language": "python",
   "name": "python3"
  },
  "language_info": {
   "codemirror_mode": {
    "name": "ipython",
    "version": 3
   },
   "file_extension": ".py",
   "mimetype": "text/x-python",
   "name": "python",
   "nbconvert_exporter": "python",
   "pygments_lexer": "ipython3",
   "version": "3.7.1"
  }
 },
 "nbformat": 4,
 "nbformat_minor": 2
}
