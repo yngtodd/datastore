{
 "cells": [
  {
   "cell_type": "code",
   "execution_count": 15,
   "metadata": {},
   "outputs": [],
   "source": [
    "from datastore.data import RandomData\n",
    "from datastore.sampling.cross_validation import stratified_split\n",
    "\n",
    "from torch.utils.data import DataLoader"
   ]
  },
  {
   "cell_type": "code",
   "execution_count": 8,
   "metadata": {},
   "outputs": [],
   "source": [
    "data = RandomData(num_samples=20, num_classes=2)"
   ]
  },
  {
   "cell_type": "code",
   "execution_count": 9,
   "metadata": {},
   "outputs": [],
   "source": [
    "splits = stratified_split(data, 3)"
   ]
  },
  {
   "cell_type": "code",
   "execution_count": 12,
   "metadata": {},
   "outputs": [
    {
     "name": "stdout",
     "output_type": "stream",
     "text": [
      "12\n",
      "14\n",
      "14\n"
     ]
    }
   ],
   "source": [
    "for split in splits:\n",
    "    print(len(split.train))"
   ]
  },
  {
   "cell_type": "code",
   "execution_count": 13,
   "metadata": {},
   "outputs": [],
   "source": [
    "data0 = splits[0].train"
   ]
  },
  {
   "cell_type": "code",
   "execution_count": 17,
   "metadata": {},
   "outputs": [],
   "source": [
    "def get_dataloaders(split):\n",
    "    trainloader = DataLoader(split.train, batch_size=1)\n",
    "    validloader = DataLoader(split.valid, batch_size=1)\n",
    "    return trainloader, validloader"
   ]
  },
  {
   "cell_type": "code",
   "execution_count": 39,
   "metadata": {},
   "outputs": [],
   "source": [
    "trainloader, validloader = get_dataloaders(splits[2])"
   ]
  },
  {
   "cell_type": "code",
   "execution_count": 40,
   "metadata": {},
   "outputs": [
    {
     "name": "stdout",
     "output_type": "stream",
     "text": [
      "idx: 0, label: tensor([1])\n",
      "idx: 1, label: tensor([1])\n",
      "idx: 2, label: tensor([1])\n",
      "idx: 3, label: tensor([1])\n",
      "idx: 4, label: tensor([1])\n",
      "idx: 5, label: tensor([0])\n",
      "idx: 6, label: tensor([0])\n",
      "idx: 7, label: tensor([1])\n",
      "idx: 8, label: tensor([1])\n",
      "idx: 9, label: tensor([0])\n",
      "idx: 10, label: tensor([0])\n",
      "idx: 11, label: tensor([1])\n",
      "idx: 12, label: tensor([1])\n",
      "idx: 13, label: tensor([0])\n"
     ]
    }
   ],
   "source": [
    "num_ones = 0\n",
    "for idx, (data, label) in enumerate(trainloader):\n",
    "    print(f'idx: {idx}, label: {label}')\n",
    "    if label.item() == 1:\n",
    "        num_ones += 1"
   ]
  },
  {
   "cell_type": "code",
   "execution_count": 41,
   "metadata": {},
   "outputs": [
    {
     "name": "stdout",
     "output_type": "stream",
     "text": [
      "0.6428571428571429\n"
     ]
    }
   ],
   "source": [
    "print(num_ones/len(trainloader))"
   ]
  },
  {
   "cell_type": "code",
   "execution_count": 42,
   "metadata": {},
   "outputs": [
    {
     "name": "stdout",
     "output_type": "stream",
     "text": [
      "idx: 0, label: tensor([1])\n",
      "idx: 1, label: tensor([0])\n",
      "idx: 2, label: tensor([1])\n",
      "idx: 3, label: tensor([0])\n",
      "idx: 4, label: tensor([1])\n",
      "idx: 5, label: tensor([1])\n"
     ]
    }
   ],
   "source": [
    "num_ones = 0\n",
    "for idx, (data, label) in enumerate(validloader):\n",
    "    print(f'idx: {idx}, label: {label}')\n",
    "    if label.item() == 1:\n",
    "        num_ones += 1"
   ]
  },
  {
   "cell_type": "code",
   "execution_count": 43,
   "metadata": {},
   "outputs": [
    {
     "name": "stdout",
     "output_type": "stream",
     "text": [
      "0.6666666666666666\n"
     ]
    }
   ],
   "source": [
    "print(num_ones/len(validloader))"
   ]
  },
  {
   "cell_type": "code",
   "execution_count": null,
   "metadata": {},
   "outputs": [],
   "source": []
  }
 ],
 "metadata": {
  "kernelspec": {
   "display_name": "Python 3",
   "language": "python",
   "name": "python3"
  },
  "language_info": {
   "codemirror_mode": {
    "name": "ipython",
    "version": 3
   },
   "file_extension": ".py",
   "mimetype": "text/x-python",
   "name": "python",
   "nbconvert_exporter": "python",
   "pygments_lexer": "ipython3",
   "version": "3.7.1"
  }
 },
 "nbformat": 4,
 "nbformat_minor": 2
}
