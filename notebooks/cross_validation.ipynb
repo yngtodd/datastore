{
 "cells": [
  {
   "cell_type": "code",
   "execution_count": 1,
   "metadata": {},
   "outputs": [],
   "source": [
    "from datastore.data import RandomData\n",
    "from datastore.data import KuzushijiMNIST\n",
    "from datastore.data import RandomMultiTaskData\n",
    "from datastore.sampling.cross_validation import stratified_split\n",
    "\n",
    "from torch.utils.data import DataLoader"
   ]
  },
  {
   "cell_type": "code",
   "execution_count": 7,
   "metadata": {},
   "outputs": [],
   "source": [
    "from collections import namedtuple\n",
    "from sklearn.model_selection import StratifiedKFold\n",
    "\n",
    "from datastore.api.data import Subset\n",
    "\n",
    "\n",
    "def stratified_split(dataset, num_splits, label=None, seed=42):\n",
    "    \"\"\" Create stratified k-fold splits\n",
    "\n",
    "    Parameters\n",
    "    ----------\n",
    "    dataset : datastore.dataset\n",
    "\n",
    "    num_splits : int\n",
    "        Number of splits of the data (usually denoted by `k` folds)\n",
    "\n",
    "    seed : int\n",
    "        Random seed to control the splits\n",
    "\n",
    "    Returns\n",
    "    -------\n",
    "    splits : list(namedtuple<Subset, Subset>)\n",
    "        stratified splits of the data\n",
    "    \"\"\"\n",
    "    skf = StratifiedKFold(n_splits=num_splits, random_state=seed)\n",
    "    data, labels = dataset.load_data()\n",
    "\n",
    "    if label:\n",
    "        labels = labels[label]\n",
    "\n",
    "    splits = []\n",
    "    Split = namedtuple('Split', 'train valid')\n",
    "\n",
    "    for train_idx, valid_idx in skf.split(data, labels):\n",
    "        split = Split(\n",
    "            train = Subset(dataset, train_idx),\n",
    "            valid = Subset(dataset, valid_idx)\n",
    "        )\n",
    "\n",
    "        splits.append(split)\n",
    "\n",
    "    return splits"
   ]
  },
  {
   "cell_type": "code",
   "execution_count": 8,
   "metadata": {},
   "outputs": [],
   "source": [
    "# Random Dataset\n",
    "random_data = RandomData(num_samples=100, num_classes=2)\n",
    "random_data_splits = stratified_split(random_data, num_splits=5, seed=13)"
   ]
  },
  {
   "cell_type": "code",
   "execution_count": 9,
   "metadata": {},
   "outputs": [],
   "source": [
    "# Kuzushiji Dataset\n",
    "kmnist = KuzushijiMNIST('/Users/yngtodd/data', partition='train', download=True)\n",
    "kmnist_splits = stratified_split(kmnist, num_splits=5, seed=13)"
   ]
  },
  {
   "cell_type": "code",
   "execution_count": 11,
   "metadata": {},
   "outputs": [],
   "source": [
    "# Random Multitask\n",
    "random_multitask = RandomMultiTaskData(num_samples=100, num_tasks=3, num_classes=2)\n",
    "multitask_splits = stratified_split(random_multitask, num_splits=5, label='task0')"
   ]
  },
  {
   "cell_type": "code",
   "execution_count": 12,
   "metadata": {},
   "outputs": [],
   "source": [
    "def get_dataloaders(split):\n",
    "    trainloader = DataLoader(split.train, batch_size=1)\n",
    "    validloader = DataLoader(split.valid, batch_size=1)\n",
    "    return trainloader, validloader"
   ]
  },
  {
   "cell_type": "code",
   "execution_count": 13,
   "metadata": {},
   "outputs": [],
   "source": [
    "def count_label_ratio(dataloader, label=1):\n",
    "    num_label = 0\n",
    "    for idx, (_, target) in enumerate(dataloader):\n",
    "        if target.item() == label:\n",
    "            num_label += 1\n",
    "            \n",
    "    print(f'Proportion of label {label} in split: {num_label/len(dataloader)}')"
   ]
  },
  {
   "cell_type": "code",
   "execution_count": 26,
   "metadata": {},
   "outputs": [],
   "source": [
    "def count_multitask_ratios(dataloader, tasks, label=1):\n",
    "    for task in tasks:\n",
    "        num_label = 0\n",
    "        for idx, (_, target) in enumerate(dataloader):\n",
    "            if target[task].item() == label:\n",
    "                num_label += 1\n",
    "\n",
    "        print(f'Proportion of label {label} of {task} in split: {num_label/len(dataloader)}')"
   ]
  },
  {
   "cell_type": "code",
   "execution_count": 27,
   "metadata": {},
   "outputs": [],
   "source": [
    "def inspect_splits(splits, label=1):\n",
    "    split_idx = 0\n",
    "    for split in splits:\n",
    "        print(f'Split: {split_idx}')\n",
    "        trainloader, validloader = get_dataloaders(split)\n",
    "        count_label_ratio(trainloader, label)\n",
    "        count_label_ratio(validloader, label)\n",
    "        split_idx += 1\n",
    "        print('*' * 30)"
   ]
  },
  {
   "cell_type": "code",
   "execution_count": 28,
   "metadata": {},
   "outputs": [],
   "source": [
    "def inspect_multitask_splits(splits, tasks, label=1):\n",
    "    split_idx = 0\n",
    "    for split in splits:\n",
    "        print(f'Split: {split_idx}')\n",
    "        trainloader, validloader = get_dataloaders(split)\n",
    "        count_multitask_ratios(trainloader, tasks, label)\n",
    "        count_multitask_ratios(validloader, tasks, label)\n",
    "        split_idx += 1\n",
    "        print('*' * 30)"
   ]
  },
  {
   "cell_type": "code",
   "execution_count": 15,
   "metadata": {},
   "outputs": [
    {
     "name": "stdout",
     "output_type": "stream",
     "text": [
      "Split: 0\n",
      "Proportion of label 1 in split: 0.4430379746835443\n",
      "Proportion of label 1 in split: 0.42857142857142855\n",
      "******************************\n",
      "Split: 1\n",
      "Proportion of label 1 in split: 0.4375\n",
      "Proportion of label 1 in split: 0.45\n",
      "******************************\n",
      "Split: 2\n",
      "Proportion of label 1 in split: 0.4375\n",
      "Proportion of label 1 in split: 0.45\n",
      "******************************\n",
      "Split: 3\n",
      "Proportion of label 1 in split: 0.4375\n",
      "Proportion of label 1 in split: 0.45\n",
      "******************************\n",
      "Split: 4\n",
      "Proportion of label 1 in split: 0.4444444444444444\n",
      "Proportion of label 1 in split: 0.42105263157894735\n",
      "******************************\n"
     ]
    }
   ],
   "source": [
    "inspect_splits(random_data_splits, label=1)"
   ]
  },
  {
   "cell_type": "code",
   "execution_count": 16,
   "metadata": {},
   "outputs": [
    {
     "name": "stdout",
     "output_type": "stream",
     "text": [
      "Split: 0\n",
      "Proportion of label 2 in split: 0.1\n",
      "Proportion of label 2 in split: 0.1\n",
      "******************************\n",
      "Split: 1\n",
      "Proportion of label 2 in split: 0.1\n",
      "Proportion of label 2 in split: 0.1\n",
      "******************************\n",
      "Split: 2\n",
      "Proportion of label 2 in split: 0.1\n",
      "Proportion of label 2 in split: 0.1\n",
      "******************************\n",
      "Split: 3\n",
      "Proportion of label 2 in split: 0.1\n",
      "Proportion of label 2 in split: 0.1\n",
      "******************************\n",
      "Split: 4\n",
      "Proportion of label 2 in split: 0.1\n",
      "Proportion of label 2 in split: 0.1\n",
      "******************************\n"
     ]
    }
   ],
   "source": [
    "inspect_splits(kmnist_splits, label=2)"
   ]
  },
  {
   "cell_type": "code",
   "execution_count": 30,
   "metadata": {},
   "outputs": [
    {
     "name": "stdout",
     "output_type": "stream",
     "text": [
      "Split: 0\n",
      "Proportion of label 0 of task0 in split: 0.5569620253164557\n",
      "Proportion of label 0 of task1 in split: 0.5316455696202531\n",
      "Proportion of label 0 of task0 in split: 0.5714285714285714\n",
      "Proportion of label 0 of task1 in split: 0.47619047619047616\n",
      "******************************\n",
      "Split: 1\n",
      "Proportion of label 0 of task0 in split: 0.5625\n",
      "Proportion of label 0 of task1 in split: 0.5625\n",
      "Proportion of label 0 of task0 in split: 0.55\n",
      "Proportion of label 0 of task1 in split: 0.35\n",
      "******************************\n",
      "Split: 2\n",
      "Proportion of label 0 of task0 in split: 0.5625\n",
      "Proportion of label 0 of task1 in split: 0.5\n",
      "Proportion of label 0 of task0 in split: 0.55\n",
      "Proportion of label 0 of task1 in split: 0.6\n",
      "******************************\n",
      "Split: 3\n",
      "Proportion of label 0 of task0 in split: 0.5625\n",
      "Proportion of label 0 of task1 in split: 0.525\n",
      "Proportion of label 0 of task0 in split: 0.55\n",
      "Proportion of label 0 of task1 in split: 0.5\n",
      "******************************\n",
      "Split: 4\n",
      "Proportion of label 0 of task0 in split: 0.5555555555555556\n",
      "Proportion of label 0 of task1 in split: 0.48148148148148145\n",
      "Proportion of label 0 of task0 in split: 0.5789473684210527\n",
      "Proportion of label 0 of task1 in split: 0.6842105263157895\n",
      "******************************\n"
     ]
    }
   ],
   "source": [
    "inspect_multitask_splits(multitask_splits, tasks=['task0', 'task1'], label=0)"
   ]
  },
  {
   "cell_type": "code",
   "execution_count": null,
   "metadata": {},
   "outputs": [],
   "source": []
  }
 ],
 "metadata": {
  "kernelspec": {
   "display_name": "Python 3",
   "language": "python",
   "name": "python3"
  },
  "language_info": {
   "codemirror_mode": {
    "name": "ipython",
    "version": 3
   },
   "file_extension": ".py",
   "mimetype": "text/x-python",
   "name": "python",
   "nbconvert_exporter": "python",
   "pygments_lexer": "ipython3",
   "version": "3.7.1"
  }
 },
 "nbformat": 4,
 "nbformat_minor": 2
}
