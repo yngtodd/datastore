{
 "cells": [
  {
   "cell_type": "code",
   "execution_count": 24,
   "metadata": {},
   "outputs": [],
   "source": [
    "from abc import abstractmethod\n",
    "\n",
    "import numpy as np\n",
    "from torch.utils.data import DataLoader"
   ]
  },
  {
   "cell_type": "code",
   "execution_count": 25,
   "metadata": {},
   "outputs": [],
   "source": [
    "class Dataset:\n",
    "    \"\"\" Abstract dataset - Used for both Keras and Pytorch\"\"\"\n",
    "        \n",
    "    @abstractmethod\n",
    "    def __getitem__(self, idx):\n",
    "        \"\"\"Gets batch at position `index`.\n",
    "        \n",
    "        Parameters\n",
    "        ----------\n",
    "            idx: index position of the batch in the data.\n",
    "            \n",
    "        Returns\n",
    "        -------\n",
    "            A batch\n",
    "        \"\"\"\n",
    "        raise NotImplementedError\n",
    "\n",
    "    @abstractmethod\n",
    "    def __len__(self):\n",
    "        \"\"\"Length of the dataset.\n",
    "        \n",
    "        Returns\n",
    "        -------\n",
    "            The number of samples in the data.\n",
    "        \"\"\"\n",
    "        raise NotImplementedError\n",
    "\n",
    "    def on_epoch_end(self):\n",
    "        \"\"\" Keras method called at the end of every epoch. \"\"\"\n",
    "        pass\n",
    "\n",
    "    def __iter__(self):\n",
    "        \"\"\"Create a generator that iterates over the data.\"\"\"\n",
    "        for item in (self[i] for i in range(len(self))):\n",
    "            yield item"
   ]
  },
  {
   "cell_type": "code",
   "execution_count": 42,
   "metadata": {},
   "outputs": [],
   "source": [
    "class RandomData(Dataset):\n",
    "    \n",
    "    def __init__(self, num_samples: int, num_classes: int):\n",
    "        self.data = np.random.randn(num_samples)\n",
    "        self.label = np.random.randint(num_classes, size=num_samples)\n",
    "        \n",
    "    def __len__(self):\n",
    "        return len(self.data)\n",
    "        \n",
    "    def __getitem__(self, idx):\n",
    "        return self.data[idx], self.label[idx]"
   ]
  },
  {
   "cell_type": "code",
   "execution_count": 43,
   "metadata": {},
   "outputs": [],
   "source": [
    "data = RandomData(10, 10)"
   ]
  },
  {
   "cell_type": "code",
   "execution_count": 44,
   "metadata": {},
   "outputs": [],
   "source": [
    "dataloader = DataLoader(data, batch_size=2)"
   ]
  },
  {
   "cell_type": "code",
   "execution_count": 45,
   "metadata": {},
   "outputs": [
    {
     "data": {
      "text/plain": [
       "[tensor([-0.0713, -0.1772], dtype=torch.float64), tensor([6, 6])]"
      ]
     },
     "execution_count": 45,
     "metadata": {},
     "output_type": "execute_result"
    }
   ],
   "source": [
    "next(iter(dataloader))"
   ]
  },
  {
   "cell_type": "code",
   "execution_count": 46,
   "metadata": {},
   "outputs": [
    {
     "data": {
      "text/plain": [
       "(-0.07129618247236931, 6)"
      ]
     },
     "execution_count": 46,
     "metadata": {},
     "output_type": "execute_result"
    }
   ],
   "source": [
    "next(iter(data))"
   ]
  },
  {
   "cell_type": "code",
   "execution_count": null,
   "metadata": {},
   "outputs": [],
   "source": []
  }
 ],
 "metadata": {
  "kernelspec": {
   "display_name": "Python 3",
   "language": "python",
   "name": "python3"
  },
  "language_info": {
   "codemirror_mode": {
    "name": "ipython",
    "version": 3
   },
   "file_extension": ".py",
   "mimetype": "text/x-python",
   "name": "python",
   "nbconvert_exporter": "python",
   "pygments_lexer": "ipython3",
   "version": "3.6.5"
  }
 },
 "nbformat": 4,
 "nbformat_minor": 2
}
