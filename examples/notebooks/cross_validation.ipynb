{
 "cells": [
  {
   "cell_type": "code",
   "execution_count": 2,
   "metadata": {},
   "outputs": [],
   "source": [
    "from datastore.data import P3B3\n",
    "from datastore.data import RandomData\n",
    "from datastore.data import KuzushijiMNIST\n",
    "from datastore.data import RandomMultiTaskData\n",
    "from datastore.sampling.cross_validation import (\n",
    "    stratified_split, multitask_stratified_split\n",
    ")\n",
    "\n",
    "from torch.utils.data import DataLoader"
   ]
  },
  {
   "cell_type": "code",
   "execution_count": 12,
   "metadata": {},
   "outputs": [],
   "source": [
    "# Random Dataset\n",
    "random_data = RandomData(num_samples=100, num_classes=2)\n",
    "random_data_splits = stratified_split(random_data, num_splits=5, seed=13)"
   ]
  },
  {
   "cell_type": "code",
   "execution_count": 13,
   "metadata": {},
   "outputs": [],
   "source": [
    "# Kuzushiji Dataset\n",
    "kmnist = KuzushijiMNIST('/Users/yngtodd/data', partition='train', download=True)\n",
    "kmnist_splits = stratified_split(kmnist, num_splits=5, seed=13)"
   ]
  },
  {
   "cell_type": "code",
   "execution_count": 14,
   "metadata": {},
   "outputs": [],
   "source": [
    "# Random Multitask\n",
    "random_multitask = RandomMultiTaskData(num_samples=100, num_tasks=3, num_classes=2)\n",
    "multitask_splits = multitask_stratified_split(random_multitask, num_splits=5, label='task0')"
   ]
  },
  {
   "cell_type": "code",
   "execution_count": 24,
   "metadata": {},
   "outputs": [],
   "source": [
    "# P3B3 Synthetic\n",
    "p3b3 = P3B3('/Users/yngtodd/data', partition='train')\n",
    "p3b3_splits = multitask_stratified_split(p3b3, num_splits=5, label='subsite')"
   ]
  },
  {
   "cell_type": "code",
   "execution_count": 16,
   "metadata": {},
   "outputs": [],
   "source": [
    "def get_dataloaders(split):\n",
    "    trainloader = DataLoader(split.train, batch_size=1)\n",
    "    validloader = DataLoader(split.valid, batch_size=1)\n",
    "    return trainloader, validloader"
   ]
  },
  {
   "cell_type": "code",
   "execution_count": 17,
   "metadata": {},
   "outputs": [],
   "source": [
    "def count_label_ratio(dataloader, label=1):\n",
    "    num_label = 0\n",
    "    for idx, (_, target) in enumerate(dataloader):\n",
    "        if target.item() == label:\n",
    "            num_label += 1\n",
    "            \n",
    "    print(f'Proportion of label {label} in split: {num_label/len(dataloader)}')"
   ]
  },
  {
   "cell_type": "code",
   "execution_count": 37,
   "metadata": {},
   "outputs": [],
   "source": [
    "def count_multitask_ratios(dataloader, tasks, label=1):\n",
    "    for task in tasks:\n",
    "        num_label = 0\n",
    "        for idx, (_, target) in enumerate(dataloader):\n",
    "            if target[task].item() == label:\n",
    "                num_label += 1\n",
    "\n",
    "        print(f'Proportion of label {label} of {task} in split: {num_label/len(dataloader)}')"
   ]
  },
  {
   "cell_type": "code",
   "execution_count": 38,
   "metadata": {},
   "outputs": [],
   "source": [
    "def inspect_splits(splits, label=1):\n",
    "    split_idx = 0\n",
    "    for split in splits:\n",
    "        print(f'Split: {split_idx}')\n",
    "        trainloader, validloader = get_dataloaders(split)\n",
    "        count_label_ratio(trainloader, label)\n",
    "        count_label_ratio(validloader, label)\n",
    "        split_idx += 1\n",
    "        print('*' * 30)"
   ]
  },
  {
   "cell_type": "code",
   "execution_count": 39,
   "metadata": {},
   "outputs": [],
   "source": [
    "def inspect_multitask_splits(splits, tasks, label=1):\n",
    "    split_idx = 0\n",
    "    for split in splits:\n",
    "        print(f'Split: {split_idx}')\n",
    "        trainloader, validloader = get_dataloaders(split)\n",
    "        count_multitask_ratios(trainloader, tasks, label)\n",
    "        count_multitask_ratios(validloader, tasks, label)\n",
    "        split_idx += 1\n",
    "        print('*' * 30)"
   ]
  },
  {
   "cell_type": "code",
   "execution_count": 40,
   "metadata": {},
   "outputs": [
    {
     "name": "stdout",
     "output_type": "stream",
     "text": [
      "Split: 0\n",
      "Proportion of label 1 in split: 0.4430379746835443\n",
      "Proportion of label 1 in split: 0.42857142857142855\n",
      "******************************\n",
      "Split: 1\n",
      "Proportion of label 1 in split: 0.4375\n",
      "Proportion of label 1 in split: 0.45\n",
      "******************************\n",
      "Split: 2\n",
      "Proportion of label 1 in split: 0.4375\n",
      "Proportion of label 1 in split: 0.45\n",
      "******************************\n",
      "Split: 3\n",
      "Proportion of label 1 in split: 0.4375\n",
      "Proportion of label 1 in split: 0.45\n",
      "******************************\n",
      "Split: 4\n",
      "Proportion of label 1 in split: 0.4444444444444444\n",
      "Proportion of label 1 in split: 0.42105263157894735\n",
      "******************************\n"
     ]
    }
   ],
   "source": [
    "inspect_splits(random_data_splits, label=1)"
   ]
  },
  {
   "cell_type": "code",
   "execution_count": 22,
   "metadata": {},
   "outputs": [
    {
     "name": "stdout",
     "output_type": "stream",
     "text": [
      "Split: 0\n",
      "Proportion of label 2 in split: 0.1\n",
      "Proportion of label 2 in split: 0.1\n",
      "******************************\n",
      "Split: 1\n",
      "Proportion of label 2 in split: 0.1\n",
      "Proportion of label 2 in split: 0.1\n",
      "******************************\n",
      "Split: 2\n",
      "Proportion of label 2 in split: 0.1\n",
      "Proportion of label 2 in split: 0.1\n",
      "******************************\n",
      "Split: 3\n",
      "Proportion of label 2 in split: 0.1\n",
      "Proportion of label 2 in split: 0.1\n",
      "******************************\n",
      "Split: 4\n",
      "Proportion of label 2 in split: 0.1\n",
      "Proportion of label 2 in split: 0.1\n",
      "******************************\n"
     ]
    }
   ],
   "source": [
    "inspect_splits(kmnist_splits, label=2)"
   ]
  },
  {
   "cell_type": "code",
   "execution_count": 35,
   "metadata": {},
   "outputs": [
    {
     "name": "stdout",
     "output_type": "stream",
     "text": [
      "Split: 0\n",
      "Proportion of label 1 of task0 in split: 0.4430379746835443\n",
      "Proportion of label 1 of task1 in split: 0.46835443037974683\n",
      "Proportion of label 1 of task0 in split: 0.42857142857142855\n",
      "Proportion of label 1 of task1 in split: 0.5238095238095238\n",
      "******************************\n",
      "Split: 1\n",
      "Proportion of label 1 of task0 in split: 0.4375\n",
      "Proportion of label 1 of task1 in split: 0.4375\n",
      "Proportion of label 1 of task0 in split: 0.45\n",
      "Proportion of label 1 of task1 in split: 0.65\n",
      "******************************\n",
      "Split: 2\n",
      "Proportion of label 1 of task0 in split: 0.4375\n",
      "Proportion of label 1 of task1 in split: 0.5\n",
      "Proportion of label 1 of task0 in split: 0.45\n",
      "Proportion of label 1 of task1 in split: 0.4\n",
      "******************************\n",
      "Split: 3\n",
      "Proportion of label 1 of task0 in split: 0.4375\n",
      "Proportion of label 1 of task1 in split: 0.475\n",
      "Proportion of label 1 of task0 in split: 0.45\n",
      "Proportion of label 1 of task1 in split: 0.5\n",
      "******************************\n",
      "Split: 4\n",
      "Proportion of label 1 of task0 in split: 0.4444444444444444\n",
      "Proportion of label 1 of task1 in split: 0.5185185185185185\n",
      "Proportion of label 1 of task0 in split: 0.42105263157894735\n",
      "Proportion of label 1 of task1 in split: 0.3157894736842105\n",
      "******************************\n"
     ]
    }
   ],
   "source": [
    "inspect_multitask_splits(multitask_splits, tasks=['task0', 'task1'], label=1)"
   ]
  },
  {
   "cell_type": "code",
   "execution_count": 41,
   "metadata": {},
   "outputs": [
    {
     "name": "stdout",
     "output_type": "stream",
     "text": [
      "Split: 0\n",
      "Proportion of label 1 of subsite in split: 0.07175238392996718\n",
      "Proportion of label 1 of laterality in split: 0.430514303579803\n",
      "Proportion of label 1 of behavior in split: 0.8915116460841019\n",
      "Proportion of label 1 of grade in split: 0.40956698452399565\n",
      "Proportion of label 1 of subsite in split: 0.07174048658764816\n",
      "Proportion of label 1 of laterality in split: 0.44354335620711166\n",
      "Proportion of label 1 of behavior in split: 0.8964441671865253\n",
      "Proportion of label 1 of grade in split: 0.41235184029943855\n",
      "******************************\n",
      "Split: 1\n",
      "Proportion of label 1 of subsite in split: 0.07174116911534854\n",
      "Proportion of label 1 of laterality in split: 0.43435448577680524\n",
      "Proportion of label 1 of behavior in split: 0.8923100969052828\n",
      "Proportion of label 1 of grade in split: 0.4101281650515786\n",
      "Proportion of label 1 of subsite in split: 0.07178526841448189\n",
      "Proportion of label 1 of laterality in split: 0.4282147315855181\n",
      "Proportion of label 1 of behavior in split: 0.8932584269662921\n",
      "Proportion of label 1 of grade in split: 0.4101123595505618\n",
      "******************************\n",
      "Split: 2\n",
      "Proportion of label 1 of subsite in split: 0.07171875\n",
      "Proportion of label 1 of laterality in split: 0.43296875\n",
      "Proportion of label 1 of behavior in split: 0.8915625\n",
      "Proportion of label 1 of grade in split: 0.40890625\n",
      "Proportion of label 1 of subsite in split: 0.071875\n",
      "Proportion of label 1 of laterality in split: 0.43375\n",
      "Proportion of label 1 of behavior in split: 0.89625\n",
      "Proportion of label 1 of grade in split: 0.415\n",
      "******************************\n",
      "Split: 3\n",
      "Proportion of label 1 of subsite in split: 0.07169634489222118\n",
      "Proportion of label 1 of laterality in split: 0.4301780693533271\n",
      "Proportion of label 1 of behavior in split: 0.8906591690096844\n",
      "Proportion of label 1 of grade in split: 0.4076850984067479\n",
      "Proportion of label 1 of subsite in split: 0.07196495619524405\n",
      "Proportion of label 1 of laterality in split: 0.4449311639549437\n",
      "Proportion of label 1 of behavior in split: 0.899874843554443\n",
      "Proportion of label 1 of grade in split: 0.41989987484355445\n",
      "******************************\n",
      "Split: 4\n",
      "Proportion of label 1 of subsite in split: 0.07184132437919726\n",
      "Proportion of label 1 of laterality in split: 0.43760737154458845\n",
      "Proportion of label 1 of behavior in split: 0.8964547868186787\n",
      "Proportion of label 1 of grade in split: 0.4143370295174137\n",
      "Proportion of label 1 of subsite in split: 0.07138384470882905\n",
      "Proportion of label 1 of laterality in split: 0.41515341264871636\n",
      "Proportion of label 1 of behavior in split: 0.8766437069505323\n",
      "Proportion of label 1 of grade in split: 0.39323731997495304\n",
      "******************************\n"
     ]
    }
   ],
   "source": [
    "# Note: split on subsite here\n",
    "inspect_multitask_splits(\n",
    "    p3b3_splits, \n",
    "    tasks=['subsite', 'laterality', 'behavior', 'grade'], \n",
    "    label=1\n",
    ")"
   ]
  },
  {
   "cell_type": "code",
   "execution_count": null,
   "metadata": {},
   "outputs": [],
   "source": []
  }
 ],
 "metadata": {
  "kernelspec": {
   "display_name": "Python 3",
   "language": "python",
   "name": "python3"
  },
  "language_info": {
   "codemirror_mode": {
    "name": "ipython",
    "version": 3
   },
   "file_extension": ".py",
   "mimetype": "text/x-python",
   "name": "python",
   "nbconvert_exporter": "python",
   "pygments_lexer": "ipython3",
   "version": "3.7.1"
  }
 },
 "nbformat": 4,
 "nbformat_minor": 2
}
