{
 "cells": [
  {
   "cell_type": "code",
   "execution_count": 1,
   "metadata": {},
   "outputs": [],
   "source": [
    "from datastore.data import P3B3\n",
    "from datastore.data import RandomData\n",
    "from datastore.data import KuzushijiMNIST\n",
    "from datastore.data import RandomMultiTaskData\n",
    "from datastore.sampling.cross_validation import (\n",
    "    stratified_split, multitask_stratified_split\n",
    ")\n",
    "\n",
    "from torch.utils.data import DataLoader"
   ]
  },
  {
   "cell_type": "code",
   "execution_count": 2,
   "metadata": {},
   "outputs": [],
   "source": [
    "# Random Dataset\n",
    "random_data = RandomData(num_samples=20, num_classes=2)\n",
    "random_data_splits = stratified_split(random_data, num_splits=5, seed=13)"
   ]
  },
  {
   "cell_type": "code",
   "execution_count": null,
   "metadata": {},
   "outputs": [],
   "source": [
    "# Kuzushiji Dataset\n",
    "kmnist = KuzushijiMNIST('/Users/yngtodd/data', partition='train', download=True)\n",
    "kmnist_splits = stratified_split(kmnist, num_splits=5, seed=13)"
   ]
  },
  {
   "cell_type": "code",
   "execution_count": null,
   "metadata": {},
   "outputs": [],
   "source": [
    "# Random Multitask\n",
    "random_multitask = RandomMultiTaskData(num_samples=100, num_tasks=3, num_classes=2)\n",
    "multitask_splits = multitask_stratified_split(random_multitask, num_splits=5, label='task0')"
   ]
  },
  {
   "cell_type": "code",
   "execution_count": null,
   "metadata": {},
   "outputs": [],
   "source": [
    "# P3B3 Synthetic\n",
    "#p3b3 = P3B3('/Users/yngtodd/data', partition='train')\n",
    "#p3b3_splits = multitask_stratified_split(p3b3, num_splits=5, label='subsite')"
   ]
  },
  {
   "cell_type": "code",
   "execution_count": null,
   "metadata": {},
   "outputs": [],
   "source": [
    "def get_dataloaders(split):\n",
    "    trainloader = DataLoader(split.train, batch_size=1)\n",
    "    validloader = DataLoader(split.valid, batch_size=1)\n",
    "    return trainloader, validloader"
   ]
  },
  {
   "cell_type": "code",
   "execution_count": null,
   "metadata": {},
   "outputs": [],
   "source": [
    "def count_label_ratio(dataloader, label=1):\n",
    "    num_label = 0\n",
    "    for idx, (_, target) in enumerate(dataloader):\n",
    "        if target.item() == label:\n",
    "            num_label += 1\n",
    "            \n",
    "    print(f'Proportion of label {label} in split: {num_label/len(dataloader)}')"
   ]
  },
  {
   "cell_type": "code",
   "execution_count": null,
   "metadata": {},
   "outputs": [],
   "source": [
    "def count_multitask_ratios(dataloader, tasks, label=1):\n",
    "    for task in tasks:\n",
    "        num_label = 0\n",
    "        for idx, (_, target) in enumerate(dataloader):\n",
    "            if target[task].item() == label:\n",
    "                num_label += 1\n",
    "\n",
    "        print(f'Proportion of label {label} of {task} in split: {num_label/len(dataloader)}')"
   ]
  },
  {
   "cell_type": "code",
   "execution_count": null,
   "metadata": {},
   "outputs": [],
   "source": [
    "def inspect_splits(splits, label=1):\n",
    "    split_idx = 0\n",
    "    for split in splits:\n",
    "        print(f'Split: {split_idx}')\n",
    "        trainloader, validloader = get_dataloaders(split)\n",
    "        count_label_ratio(trainloader, label)\n",
    "        count_label_ratio(validloader, label)\n",
    "        split_idx += 1\n",
    "        print('*' * 30)"
   ]
  },
  {
   "cell_type": "code",
   "execution_count": null,
   "metadata": {},
   "outputs": [],
   "source": [
    "def inspect_multitask_splits(splits, tasks, label=1):\n",
    "    split_idx = 0\n",
    "    for split in splits:\n",
    "        print(f'Split: {split_idx}')\n",
    "        trainloader, validloader = get_dataloaders(split)\n",
    "        count_multitask_ratios(trainloader, tasks, label)\n",
    "        count_multitask_ratios(validloader, tasks, label)\n",
    "        split_idx += 1\n",
    "        print('*' * 30)"
   ]
  },
  {
   "cell_type": "code",
   "execution_count": null,
   "metadata": {},
   "outputs": [],
   "source": [
    "inspect_splits(random_data_splits, label=1)"
   ]
  },
  {
   "cell_type": "code",
   "execution_count": null,
   "metadata": {},
   "outputs": [],
   "source": [
    "inspect_splits(kmnist_splits, label=2)"
   ]
  },
  {
   "cell_type": "code",
   "execution_count": null,
   "metadata": {},
   "outputs": [],
   "source": [
    "inspect_multitask_splits(multitask_splits, tasks=['task0', 'task1'], label=1)"
   ]
  },
  {
   "cell_type": "code",
   "execution_count": null,
   "metadata": {},
   "outputs": [],
   "source": [
    "# Note: split on subsite here\n",
    "inspect_multitask_splits(\n",
    "    p3b3_splits, \n",
    "    tasks=['subsite', 'laterality', 'behavior', 'grade'], \n",
    "    label=1\n",
    ")"
   ]
  },
  {
   "cell_type": "code",
   "execution_count": null,
   "metadata": {},
   "outputs": [],
   "source": []
  }
 ],
 "metadata": {
  "kernelspec": {
   "display_name": "Python 3",
   "language": "python",
   "name": "python3"
  },
  "language_info": {
   "codemirror_mode": {
    "name": "ipython",
    "version": 3
   },
   "file_extension": ".py",
   "mimetype": "text/x-python",
   "name": "python",
   "nbconvert_exporter": "python",
   "pygments_lexer": "ipython3",
   "version": "3.7.3"
  }
 },
 "nbformat": 4,
 "nbformat_minor": 2
}
